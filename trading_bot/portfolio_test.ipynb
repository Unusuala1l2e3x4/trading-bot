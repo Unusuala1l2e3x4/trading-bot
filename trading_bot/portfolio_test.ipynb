{
 "cells": [
  {
   "cell_type": "code",
   "execution_count": 57,
   "metadata": {},
   "outputs": [],
   "source": [
    "class Subposition:\n",
    "    def __init__(self, stock_symbol, position_size):\n",
    "        self.stock_symbol = stock_symbol\n",
    "        self.position_size = position_size\n",
    "\n",
    "    def __repr__(self):\n",
    "        return f\"Subposition({self.stock_symbol}, {self.position_size})\"\n",
    "\n",
    "class Position:\n",
    "    def __init__(self, stock_symbol, cash_balance):\n",
    "        self.stock_symbol = stock_symbol\n",
    "        self.cash_balance = cash_balance\n",
    "        self.subpositions = []\n",
    "\n",
    "    def add_subposition(self, position_size):\n",
    "        required_initial_margin = position_size / 2\n",
    "        if required_initial_margin <= self.cash_balance:\n",
    "            new_subposition = Subposition(self.stock_symbol, position_size)\n",
    "            self.subpositions.append(new_subposition)\n",
    "            self.cash_balance -= required_initial_margin\n",
    "            print(f\"Added: {new_subposition}\")\n",
    "        else:\n",
    "            print(\"Insufficient initial margin to add subposition.\")\n",
    "\n",
    "    def total_position_size(self):\n",
    "        return sum(subposition.position_size for subposition in self.subpositions)\n",
    "\n",
    "    def __repr__(self):\n",
    "        return f\"Position(stock_symbol={self.stock_symbol}, cash_balance={self.cash_balance}, subpositions={self.subpositions})\"\n"
   ]
  },
  {
   "cell_type": "code",
   "execution_count": 58,
   "metadata": {},
   "outputs": [],
   "source": [
    "class Portfolio:\n",
    "    def __init__(self, initial_cash_balance):\n",
    "        self.total_cash_balance = initial_cash_balance\n",
    "        self.positions = {}\n",
    "        self.total_initial_margin_used = 0\n",
    "\n",
    "    def add_position(self, stock_symbol, position_size):\n",
    "        if stock_symbol not in self.positions:\n",
    "            self.positions[stock_symbol] = Position(stock_symbol, self.total_cash_balance)\n",
    "\n",
    "        position = self.positions[stock_symbol]\n",
    "        required_initial_margin = position_size / 2\n",
    "\n",
    "        # Calculate how much margin is available\n",
    "        available_margin = self.total_cash_balance * 2 - self.total_initial_margin_used\n",
    "        print(available_margin, required_initial_margin)\n",
    "        \n",
    "        if required_initial_margin <= available_margin:\n",
    "            # While loop for splitting positions into subpositions\n",
    "            while position_size > 2 * self.total_cash_balance:\n",
    "                sub_position_size = 2 * self.total_cash_balance\n",
    "                position.add_subposition(sub_position_size)\n",
    "                self.total_initial_margin_used += sub_position_size / 2\n",
    "                position_size -= sub_position_size\n",
    "\n",
    "            if position_size > 0:\n",
    "                position.add_subposition(position_size)\n",
    "                self.total_initial_margin_used += position_size / 2\n",
    "        else:\n",
    "            print(f\"Insufficient total initial margin to add position in {stock_symbol}.\")\n",
    "\n",
    "    def total_portfolio_value(self):\n",
    "        return sum(position.total_position_size() for position in self.positions.values())\n",
    "\n",
    "    def __repr__(self):\n",
    "        return f\"Portfolio(total_cash_balance={self.total_cash_balance}, positions={self.positions})\""
   ]
  },
  {
   "cell_type": "code",
   "execution_count": 59,
   "metadata": {},
   "outputs": [
    {
     "name": "stdout",
     "output_type": "stream",
     "text": [
      "200000 150000.0\n",
      "Added: Subposition(AAPL, 200000)\n",
      "Insufficient initial margin to add subposition.\n",
      "50000.0 50000.0\n",
      "Added: Subposition(GOOGL, 100000)\n"
     ]
    }
   ],
   "source": [
    "\n",
    "# Example usage\n",
    "initial_cash_balance = 100000\n",
    "\n",
    "# Create a Portfolio instance\n",
    "portfolio = Portfolio(initial_cash_balance)\n",
    "\n",
    "# Add positions for multiple stocks\n",
    "portfolio.add_position('AAPL', 300000)  # Should split into sub-positions\n",
    "portfolio.add_position('GOOGL', 100000)  # Fits within the 2x limit\n"
   ]
  },
  {
   "cell_type": "code",
   "execution_count": 60,
   "metadata": {},
   "outputs": [
    {
     "name": "stdout",
     "output_type": "stream",
     "text": [
      "Portfolio(total_cash_balance=100000, positions={'AAPL': Position(stock_symbol=AAPL, cash_balance=0.0, subpositions=[Subposition(AAPL, 200000)]), 'GOOGL': Position(stock_symbol=GOOGL, cash_balance=50000.0, subpositions=[Subposition(GOOGL, 100000)])})\n",
      "Total portfolio value: $300000\n",
      "Remaining total cash balance: $100000\n",
      "Total initial margin used: $200000.0\n"
     ]
    }
   ],
   "source": [
    "\n",
    "# Display the portfolio and remaining cash balance\n",
    "print(portfolio)\n",
    "print(f\"Total portfolio value: ${portfolio.total_portfolio_value()}\")\n",
    "print(f\"Remaining total cash balance: ${portfolio.total_cash_balance}\")\n",
    "print(f\"Total initial margin used: ${portfolio.total_initial_margin_used}\")"
   ]
  }
 ],
 "metadata": {
  "kernelspec": {
   "display_name": "trading_bot_env",
   "language": "python",
   "name": "python3"
  },
  "language_info": {
   "codemirror_mode": {
    "name": "ipython",
    "version": 3
   },
   "file_extension": ".py",
   "mimetype": "text/x-python",
   "name": "python",
   "nbconvert_exporter": "python",
   "pygments_lexer": "ipython3",
   "version": "3.12.4"
  }
 },
 "nbformat": 4,
 "nbformat_minor": 2
}
