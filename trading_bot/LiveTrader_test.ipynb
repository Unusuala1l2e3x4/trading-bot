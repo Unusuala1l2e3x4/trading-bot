{
 "cells": [
  {
   "cell_type": "code",
   "execution_count": 1,
   "metadata": {},
   "outputs": [],
   "source": [
    "import asyncio\n",
    "import pandas as pd\n",
    "from datetime import datetime, time, timedelta\n",
    "from zoneinfo import ZoneInfo\n",
    "from alpaca.data.live.stock import StockDataStream\n",
    "from alpaca.data.requests import StockBarsRequest\n",
    "from alpaca.data.timeframe import TimeFrame\n",
    "from alpaca.trading.client import TradingClient\n",
    "from alpaca.trading.requests import MarketOrderRequest, GetCalendarRequest\n",
    "from alpaca.trading.enums import OrderSide, TimeInForce\n",
    "from alpaca.data.historical import StockHistoricalDataClient\n",
    "from alpaca.data.enums import Adjustment\n",
    "\n",
    "from IPython.display import clear_output\n",
    "\n",
    "\n",
    "# Importing the modules themselves for reloading\n",
    "import TradePosition\n",
    "import TouchArea\n",
    "import LiveTrader\n",
    "\n",
    "# Reloading the modules to apply any changes\n",
    "import importlib\n",
    "importlib.reload(TradePosition)\n",
    "importlib.reload(TouchArea)\n",
    "importlib.reload(LiveTrader)\n",
    "\n",
    "\n",
    "from TradePosition import TradePosition, SubPosition, export_trades_to_csv\n",
    "from TouchArea import TouchArea, TouchAreaCollection\n",
    "from LiveTrader import LiveTrader\n",
    "\n",
    "import os, toml\n",
    "from dotenv import load_dotenv\n",
    "\n",
    "STANDARD_DATETIME_STR = '%Y-%m-%d %H:%M:%S'\n",
    "ROUNDING_DECIMAL_PLACES = 10  # Choose an appropriate number of decimal places\n",
    "\n",
    "load_dotenv(override=True)\n",
    "livepaper = os.getenv('LIVEPAPER')\n",
    "config = toml.load('../config.toml')\n",
    "\n",
    "# Replace with your Alpaca API credentials\n",
    "API_KEY = config[livepaper]['key']\n",
    "API_SECRET = config[livepaper]['secret']\n",
    "\n",
    "\n",
    "debug = True\n",
    "\n",
    "def debug_print(*args, **kwargs):\n",
    "    if debug:\n",
    "        print(*args, **kwargs)"
   ]
  },
  {
   "cell_type": "code",
   "execution_count": 2,
   "metadata": {},
   "outputs": [],
   "source": [
    "async def main():\n",
    "    symbol = \"AAPL\"\n",
    "    initial_balance = 10000\n",
    "    trader = LiveTrader(API_KEY, API_SECRET, symbol, initial_balance)\n",
    "    \n",
    "    timeout = 120\n",
    "    \n",
    "    try:\n",
    "        # Wait for up to 2 minutes (120 seconds) to receive data\n",
    "        await asyncio.wait_for(trader.run(), timeout=timeout)\n",
    "    except asyncio.TimeoutError:\n",
    "        print(f\"No data received within {timeout} seconds timeout. This may be normal outside of market hours.\")\n",
    "    except Exception as e:\n",
    "        print(f\"An error occurred: {e}\")\n",
    "    finally:\n",
    "        await trader.close()\n",
    "        print(\"Trader stopped.\")"
   ]
  },
  {
   "cell_type": "code",
   "execution_count": 3,
   "metadata": {},
   "outputs": [
    {
     "name": "stdout",
     "output_type": "stream",
     "text": [
      "Market is closed. Waiting for market to open.\n",
      "Market is closed. Waiting for market to open.\n",
      "No data received within 120 seconds timeout. This may be normal outside of market hours.\n",
      "Trader stopped.\n"
     ]
    }
   ],
   "source": [
    "import tracemalloc\n",
    "tracemalloc.start()\n",
    "import logging\n",
    "logging.getLogger('alpaca').setLevel(logging.DEBUG)\n",
    "\n",
    "# Run the main function\n",
    "clear_output(wait=True)  # Clear previous output\n",
    "\n",
    "# Check if we're already in an event loop\n",
    "try:\n",
    "    loop = asyncio.get_running_loop()\n",
    "except RuntimeError:\n",
    "    # If we're not in an event loop, create one and run our main function\n",
    "    asyncio.run(main())\n",
    "else:\n",
    "    # If we're already in an event loop, create a task\n",
    "    loop.create_task(main())"
   ]
  }
 ],
 "metadata": {
  "kernelspec": {
   "display_name": "trading_bot_env",
   "language": "python",
   "name": "python3"
  },
  "language_info": {
   "codemirror_mode": {
    "name": "ipython",
    "version": 3
   },
   "file_extension": ".py",
   "mimetype": "text/x-python",
   "name": "python",
   "nbconvert_exporter": "python",
   "pygments_lexer": "ipython3",
   "version": "3.12.4"
  }
 },
 "nbformat": 4,
 "nbformat_minor": 2
}
