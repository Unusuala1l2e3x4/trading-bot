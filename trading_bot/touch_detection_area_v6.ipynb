{
 "cells": [
  {
   "cell_type": "code",
   "execution_count": 551,
   "metadata": {},
   "outputs": [],
   "source": [
    "import pandas as pd\n",
    "import numpy as np\n",
    "\n",
    "import matplotlib.pyplot as plt\n",
    "import numpy as np\n",
    "import os\n",
    "from tqdm import tqdm\n",
    "\n",
    "# Importing the modules themselves for reloading\n",
    "import TradePosition\n",
    "import TouchArea\n",
    "import TradingStrategy\n",
    "import TouchDetection\n",
    "\n",
    "# Reloading the modules to apply any changes\n",
    "import importlib\n",
    "importlib.reload(TradePosition)\n",
    "importlib.reload(TouchArea)\n",
    "importlib.reload(TradingStrategy)\n",
    "importlib.reload(TouchDetection)\n",
    "\n",
    "from TradePosition import TradePosition\n",
    "from TouchArea import TouchArea\n",
    "from TradingStrategy import StrategyParameters, TouchDetectionAreas, TradingStrategy \n",
    "\n",
    "from TouchDetection import BacktestTouchDetectionParameters, calculate_touch_detection_area, plot_touch_detection_areas, np_mean, np_median"
   ]
  },
  {
   "cell_type": "code",
   "execution_count": 552,
   "metadata": {},
   "outputs": [],
   "source": [
    "# symbol = \"NVDA\"\n",
    "# symbol = \"MSFT\"\n",
    "# symbol = \"AAPL\" #\n",
    "# symbol = \"TJX\"\n",
    "# symbol = \"JNJ\" #\n",
    "symbol = \"AMZN\"\n",
    "# symbol = \"AZN\"\n",
    "# symbol = \"TSLA\" #\n",
    "# symbol = \"TJX\" #\n",
    "\n",
    "\n",
    "# start_date = \"2023-01-01 00:00:00\"\n",
    "# end_date =   \"2024-01-01 00:00:00\"\n",
    "\n",
    "# start_date = \"2024-01-01 00:00:00\"\n",
    "# end_date =   \"2024-08-17 00:00:00\"\n",
    "\n",
    "start_date = \"2024-08-20 00:00:00\"\n",
    "# end_date =   \"2024-08-20 11:18:00\"\n",
    "end_date =   \"2024-08-21 00:00:00\"\n",
    "\n",
    "# start_date = \"2024-09-01 00:00:00\"\n",
    "# end_date =   \"2024-09-19 00:00:00\"\n",
    "\n",
    "# start_date = \"2016-10-25 00:00:00\"\n",
    "# end_date =   \"2016-10-26 00:00:00\"\n",
    "\n",
    "# Usage example:\n",
    "touch_params = BacktestTouchDetectionParameters(\n",
    "    symbol=symbol,\n",
    "    start_date=start_date,\n",
    "    end_date=end_date,\n",
    "    atr_period=15,\n",
    "    level1_period=15,\n",
    "    multiplier=1.4,\n",
    "    min_touches=3,\n",
    "    start_time=None,\n",
    "    end_time='15:55',\n",
    "    # end_time='11:20',\n",
    "    use_median=True,\n",
    "    touch_area_width_agg=np_median,\n",
    "    use_saved_bars=True,\n",
    "    rolling_avg_decay_rate=0.85,\n",
    "    # export_bars_path=f'bars/bars_{symbol}_{start_date.split()[0]}_{end_date.split()[0]}.csv'\n",
    ")\n",
    "\n",
    "touch_detection_areas = calculate_touch_detection_area(touch_params)\n",
    "\n",
    "# touch_detection_areas = calculate_touch_detection_area(symbol, start_date, end_date, atr_period=15, level1_period=15, multiplier=1.4, min_touches=3, start_time=None, end_time='15:55', \\\n",
    "#     use_median=True, touch_area_width_agg=np_median, use_saved_bars=True, export_bars_path=f'bars_{symbol}_{start_date.split()[0]}_{end_date.split()[0]}.csv')\n"
   ]
  },
  {
   "cell_type": "code",
   "execution_count": 553,
   "metadata": {},
   "outputs": [],
   "source": [
    "# touch_detection_areas.bars[touch_detection_areas.mask].reset_index().to_csv('asdf2.csv',index=False)\n",
    "# touch_detection_areas.bars.reset_index().to_csv('asdfasdf.csv',index=False)"
   ]
  },
  {
   "cell_type": "code",
   "execution_count": 554,
   "metadata": {},
   "outputs": [],
   "source": [
    "# a = touch_detection_areas.bars[touch_detection_areas.mask]['trade_count'].astype(float).describe()\n",
    "# b = touch_detection_areas.bars[touch_detection_areas.mask]['volume'].astype(float).describe()\n",
    "# c = touch_detection_areas.bars[touch_detection_areas.mask]['shares_per_trade'].astype(float).describe()\n",
    "# pd.concat([a,b,c],axis=1)"
   ]
  },
  {
   "cell_type": "code",
   "execution_count": null,
   "metadata": {},
   "outputs": [],
   "source": [
    "# zoom_start_date = start_date\n",
    "# zoom_end_date = end_date\n",
    "zoom_start_date = \"2024-08-20 10:30:00\"\n",
    "zoom_end_date =   \"2024-08-20 11:30:00\"\n",
    "# plot_touch_detection_areas(touch_detection_areas)\n",
    "plot_touch_detection_areas(touch_detection_areas, zoom_start_date, zoom_end_date)"
   ]
  },
  {
   "cell_type": "code",
   "execution_count": null,
   "metadata": {},
   "outputs": [],
   "source": [
    "len(touch_detection_areas.long_touch_area) + len(touch_detection_areas.short_touch_area)"
   ]
  },
  {
   "cell_type": "code",
   "execution_count": null,
   "metadata": {},
   "outputs": [],
   "source": [
    "params = StrategyParameters(\n",
    "    initial_investment=10_000,\n",
    "    # initial_investment=10103.375669397663,\n",
    "    do_longs=True,\n",
    "    do_shorts=True,\n",
    "    sim_longs=True,\n",
    "    sim_shorts=True,\n",
    "    \n",
    "    use_margin=True,\n",
    "    \n",
    "    times_buying_power=1,\n",
    "    \n",
    "    soft_start_time = None, \n",
    "    soft_end_time = '15:50',\n",
    "    \n",
    "    # slippage_factor=0\n",
    "    # slippage_factor=0.2\n",
    "    # slippage_factor=0.001\n",
    ")\n",
    "\n",
    "strategy = TradingStrategy(touch_detection_areas, params, export_trades_path='trades_output.csv')\n",
    "results = strategy.run_backtest()"
   ]
  },
  {
   "cell_type": "code",
   "execution_count": null,
   "metadata": {},
   "outputs": [],
   "source": [
    "asdf"
   ]
  },
  {
   "cell_type": "code",
   "execution_count": null,
   "metadata": {},
   "outputs": [],
   "source": [
    "# symbols = ['AAPL','INTC','JNJ','TSLA','MSFT','AMZN','ABBV']\n",
    "# symbols = ['AAPL', 'MSFT', 'NVDA', 'TSLA', 'AMZN', 'JPM', 'GOOGL', 'META', 'XOM', 'CVX', 'UNH', 'PFE', 'KO', 'PG', 'BA', 'CAT']\n",
    "# symbols = ['NVDA', 'JPM', 'GOOGL', 'META', 'XOM', 'CVX', 'UNH', 'PFE', 'KO', 'PG', 'BA', 'CAT']\n",
    "# symbols = ['AAPL', 'MSFT', 'NVDA', 'GOOGL', 'AMZN', 'TSLA', 'JPM', 'BAC', 'META', 'T', 'VZ', 'XOM', 'CVX', 'JNJ', 'PFE', 'KO'] # generally high-liquidity from 2016 to present\n",
    "symbols = ['AAPL', 'MSFT', 'NVDA', 'INTC', 'AMZN', 'TSLA', 'DIS', 'JPM', 'BAC', 'GOOGL', 'FB', 'XOM', 'CVX', 'JNJ', 'PFE', 'KO'] # test3. generally high-liquidity from 2016 to 2019"
   ]
  },
  {
   "cell_type": "code",
   "execution_count": null,
   "metadata": {},
   "outputs": [],
   "source": [
    "trades_folder = 'test4/trades'\n",
    "graphs_folder = 'test4/graphs'\n",
    "xbp_folder = 'test4/xbp'\n",
    "\n",
    "from IPython.utils import io\n",
    "for s in symbols:\n",
    "    touch_params.symbol = s\n",
    "    touch_params.export_bars_path=f'bars/bars_{touch_params.symbol}_{start_date.split()[0]}_{end_date.split()[0]}.csv'\n",
    "    \n",
    "    # print(touch_params.symbol)\n",
    "    # print(touch_params.export_bars_path)\n",
    "    results_list = []\n",
    "    \n",
    "    # print(touch_params)\n",
    "    touch_detection_areas = calculate_touch_detection_area(touch_params)\n",
    "    # continue\n",
    "    for i in tqdm(list(np.arange(0.5, 4.01, 0.5))):\n",
    "        \n",
    "        params.times_buying_power = i\n",
    "        with io.capture_output() as captured:\n",
    "            strategy = TradingStrategy(touch_detection_areas, params)\n",
    "            \n",
    "            if i == 1:\n",
    "                strategy.export_trades_path=f'{trades_folder}/trades_{touch_params.symbol}_{start_date.split()[0]}_{end_date.split()[0]}.csv'\n",
    "                strategy.export_graph_path=f'{graphs_folder}/graph_{touch_params.symbol}_{start_date.split()[0]}_{end_date.split()[0]}.png'\n",
    "            \n",
    "            balance, longs_executed, shorts_executed, balance_change, mean_profit_loss_pct, win_mean_profit_loss_pct, lose_mean_profit_loss_pct, winrate, total_costs, \\\n",
    "                avg_sub_pos, avg_transact, count_entry_adjust, count_entry_skip, count_exit_adjust, count_exit_skip, key_stats = \\\n",
    "                strategy.run_backtest()\n",
    "\n",
    "        trades_executed = longs_executed + shorts_executed\n",
    "        newrow = {\n",
    "            'xBP': i,\n",
    "            'net%': balance_change,\n",
    "            'balance': balance,\n",
    "            'cnt': trades_executed,\n",
    "            # 'AvgPL%': mean_profit_loss_pct,\n",
    "            # 'winAvgPL%': win_mean_profit_loss_pct,\n",
    "            # 'loseAvgPL%': lose_mean_profit_loss_pct,\n",
    "            'WR%': winrate,\n",
    "            'TotalCosts': total_costs,\n",
    "            # 'avg sub pos created': avg_sub_pos,\n",
    "            # 'avg transactions': avg_transact,\n",
    "            'entryAdjust': count_entry_adjust,\n",
    "            'entrySkip': count_entry_skip,\n",
    "            'exitAdjust': count_exit_adjust,\n",
    "            'exitSkip': count_exit_skip,\n",
    "            **key_stats\n",
    "        }\n",
    "        results_list.append(newrow)\n",
    "\n",
    "    results = pd.DataFrame(results_list)\n",
    "    # Format specific columns if needed\n",
    "    results['xBP'] = results['xBP'].map('{:.1f}'.format)\n",
    "    results['balance'] = results['balance'].map('${:.4f}'.format)\n",
    "    results['TotalCosts'] = results['TotalCosts'].map('${:.4f}'.format)\n",
    "\n",
    "    # Format all float columns\n",
    "    float_columns = results.select_dtypes(include=['float64']).columns\n",
    "    results[float_columns] = results[float_columns].applymap('{:.4f}'.format)\n",
    "\n",
    "    # Display the results\n",
    "    # pd.set_option('display.max_columns', None)\n",
    "    filename = f'{xbp_folder}/xbp_{touch_params.symbol}_{start_date.split()[0]}_{end_date.split()[0]}.csv'\n",
    "    os.makedirs(os.path.dirname(filename), exist_ok=True)\n",
    "    results.to_csv(filename,index=False)\n",
    "    # results"
   ]
  },
  {
   "cell_type": "code",
   "execution_count": null,
   "metadata": {},
   "outputs": [],
   "source": [
    "# symbols = ['AAPL', 'MSFT', 'NVDA', 'TSLA', 'AMZN', 'JPM', 'GOOGL', 'META', 'XOM', 'CVX', 'UNH', 'PFE', 'KO', 'PG', 'BA', 'CAT','INTC','JNJ','ABBV'] # test2"
   ]
  },
  {
   "cell_type": "code",
   "execution_count": null,
   "metadata": {},
   "outputs": [],
   "source": [
    "results_combined = pd.DataFrame()\n",
    "for s in symbols:\n",
    "    fname = f'{xbp_folder}/xbp_{s}_{start_date.split()[0]}_{end_date.split()[0]}.csv'\n",
    "    results = pd.read_csv(fname)\n",
    "    results['symbol'] = s\n",
    "    first_column = results.pop('symbol') \n",
    "    results.insert(0, 'symbol', first_column) \n",
    "    results_combined = pd.concat([results_combined, results],ignore_index=True)\n",
    "results_combined['WinMax'] = results_combined[['LwinMax', 'SwinMax']].max(axis=1)\n",
    "results_combined['LoseMin'] = results_combined[['LloseMin', 'SloseMin']].max(axis=1)\n",
    "pd.set_option('display.max_rows', results_combined.shape[0])\n",
    "pd.set_option('display.max_columns', results_combined.shape[1])\n",
    "results_combined.loc[results_combined.xBP.isin({1,4})].sort_values('net%',ascending=False)"
   ]
  },
  {
   "cell_type": "code",
   "execution_count": null,
   "metadata": {},
   "outputs": [],
   "source": [
    "for s in symbols:\n",
    "    fname = f'{xbp_folder}/xbp_{s}_{start_date.split()[0]}_{end_date.split()[0]}.csv'\n",
    "    results = pd.read_csv(fname)\n",
    "    plt.plot(results.xBP.astype(float).to_list(), results.AllAvg.astype(float).to_list(), label=s)\n",
    "plt.legend(bbox_to_anchor=(1.0, 1.0), loc='upper left')\n",
    "plt.show()"
   ]
  },
  {
   "cell_type": "code",
   "execution_count": null,
   "metadata": {},
   "outputs": [],
   "source": [
    "for s in symbols:\n",
    "    fname = f'{xbp_folder}/xbp_{s}_{start_date.split()[0]}_{end_date.split()[0]}.csv'\n",
    "    results = pd.read_csv(fname)\n",
    "    plt.plot(results.xBP.astype(float).to_list(), results['net%'].astype(float).to_list(), label=s)\n",
    "plt.legend(bbox_to_anchor=(1.0, 1.0), loc='upper left')\n",
    "plt.show()"
   ]
  },
  {
   "cell_type": "code",
   "execution_count": null,
   "metadata": {},
   "outputs": [],
   "source": [
    "for s in symbols:\n",
    "    fname = f'{xbp_folder}/xbp_{s}_{start_date.split()[0]}_{end_date.split()[0]}.csv'\n",
    "    results = pd.read_csv(fname)\n",
    "    plt.plot(results.xBP.astype(float).to_list(), results['WR%'].astype(float).to_list(), label=s)\n",
    "plt.legend(bbox_to_anchor=(1.0, 1.0), loc='upper left')\n",
    "plt.show()"
   ]
  }
 ],
 "metadata": {
  "kernelspec": {
   "display_name": "trading_bot_env",
   "language": "python",
   "name": "python3"
  },
  "language_info": {
   "codemirror_mode": {
    "name": "ipython",
    "version": 3
   },
   "file_extension": ".py",
   "mimetype": "text/x-python",
   "name": "python",
   "nbconvert_exporter": "python",
   "pygments_lexer": "ipython3",
   "version": "3.12.4"
  }
 },
 "nbformat": 4,
 "nbformat_minor": 2
}
