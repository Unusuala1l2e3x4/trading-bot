{
 "cells": [
  {
   "cell_type": "code",
   "execution_count": 1,
   "metadata": {},
   "outputs": [],
   "source": [
    "\n",
    "import toml\n",
    "from dotenv import load_dotenv\n",
    "import os\n",
    "from datetime import datetime, date, timedelta\n",
    "\n",
    "load_dotenv(override=True)\n",
    "livepaper = os.getenv('LIVEPAPER')\n",
    "config = toml.load('../config.toml')\n",
    "\n",
    "# Replace with your Alpaca API credentials\n",
    "API_KEY = config[livepaper]['key']\n",
    "API_SECRET = config[livepaper]['secret']\n"
   ]
  },
  {
   "cell_type": "code",
   "execution_count": 2,
   "metadata": {},
   "outputs": [
    {
     "name": "stdout",
     "output_type": "stream",
     "text": [
      "AAPL\n",
      "[{   'ca_sub_type': <CorporateActionSubType.CASH: 'cash'>,\n",
      "    'ca_type': <CorporateActionType.DIVIDEND: 'dividend'>,\n",
      "    'cash': 0.25,\n",
      "    'corporate_action_id': '037833100_AC24',\n",
      "    'declaration_date': datetime.date(2024, 8, 8),\n",
      "    'ex_date': datetime.date(2024, 8, 12),\n",
      "    'id': UUID('8a0704a1-4fd8-48ec-bc65-805a522cc876'),\n",
      "    'initiating_original_cusip': '037833100',\n",
      "    'initiating_symbol': 'AAPL',\n",
      "    'new_rate': 1.0,\n",
      "    'old_rate': 1.0,\n",
      "    'payable_date': datetime.date(2024, 8, 15),\n",
      "    'record_date': datetime.date(2024, 8, 12),\n",
      "    'target_original_cusip': '037833100',\n",
      "    'target_symbol': 'AAPL'}]\n",
      "GOOGL\n",
      "[{   'ca_sub_type': <CorporateActionSubType.CASH: 'cash'>,\n",
      "    'ca_type': <CorporateActionType.DIVIDEND: 'dividend'>,\n",
      "    'cash': 0.2,\n",
      "    'corporate_action_id': '02079K305_AB24',\n",
      "    'declaration_date': datetime.date(2024, 9, 5),\n",
      "    'ex_date': datetime.date(2024, 9, 9),\n",
      "    'id': UUID('f5cbf4fa-59d4-45eb-a834-f6ef81623f3d'),\n",
      "    'initiating_original_cusip': '38259P508',\n",
      "    'initiating_symbol': 'GOOGL',\n",
      "    'new_rate': 1.0,\n",
      "    'old_rate': 1.0,\n",
      "    'payable_date': datetime.date(2024, 9, 16),\n",
      "    'record_date': datetime.date(2024, 9, 9),\n",
      "    'target_original_cusip': '38259P508',\n",
      "    'target_symbol': 'GOOGL'}]\n",
      "NVDA\n",
      "[{   'ca_sub_type': <CorporateActionSubType.CASH: 'cash'>,\n",
      "    'ca_type': <CorporateActionType.DIVIDEND: 'dividend'>,\n",
      "    'cash': 0.01,\n",
      "    'corporate_action_id': '67066G104_AD24',\n",
      "    'declaration_date': datetime.date(2024, 9, 10),\n",
      "    'ex_date': datetime.date(2024, 9, 12),\n",
      "    'id': UUID('890ff839-21a1-466b-b090-9e3cb0e97c5a'),\n",
      "    'initiating_original_cusip': '67066G104',\n",
      "    'initiating_symbol': 'NVDA',\n",
      "    'new_rate': 1.0,\n",
      "    'old_rate': 1.0,\n",
      "    'payable_date': datetime.date(2024, 10, 3),\n",
      "    'record_date': datetime.date(2024, 9, 12),\n",
      "    'target_original_cusip': '67066G104',\n",
      "    'target_symbol': 'NVDA'}]\n"
     ]
    }
   ],
   "source": [
    "from alpaca.trading.client import TradingClient\n",
    "from alpaca.trading.requests import GetCorporateAnnouncementsRequest\n",
    "from alpaca.trading.enums import CorporateActionType, CorporateActionSubType, CorporateActionDateType\n",
    "\n",
    "trading_client = TradingClient(API_KEY, API_SECRET, paper=True)\n",
    "\n",
    "# for i in ['AAPL', 'GOOGL', 'MSFT', 'AMZN', 'META', 'NVDA']:\n",
    "for i in ['AAPL', 'GOOGL', 'NVDA']:\n",
    "    print(i)\n",
    "    ca_request = GetCorporateAnnouncementsRequest(\n",
    "        ca_types=[CorporateActionType.SPLIT,CorporateActionType.DIVIDEND, CorporateActionType.MERGER, CorporateActionType.SPINOFF],\n",
    "        since=datetime.now().date() - timedelta(days=90),\n",
    "        until=datetime.now().date(),\n",
    "        symbol=i\n",
    "    )\n",
    "\n",
    "\n",
    "    cas = trading_client.get_corporate_announcements(ca_request)\n",
    "    print(cas)"
   ]
  }
 ],
 "metadata": {
  "kernelspec": {
   "display_name": "trading_bot_env",
   "language": "python",
   "name": "python3"
  },
  "language_info": {
   "codemirror_mode": {
    "name": "ipython",
    "version": 3
   },
   "file_extension": ".py",
   "mimetype": "text/x-python",
   "name": "python",
   "nbconvert_exporter": "python",
   "pygments_lexer": "ipython3",
   "version": "3.12.4"
  }
 },
 "nbformat": 4,
 "nbformat_minor": 2
}
