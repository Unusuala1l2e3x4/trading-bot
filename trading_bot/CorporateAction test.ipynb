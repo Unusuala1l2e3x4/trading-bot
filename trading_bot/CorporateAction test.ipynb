{
 "cells": [
  {
   "cell_type": "code",
   "execution_count": 1,
   "metadata": {},
   "outputs": [],
   "source": [
    "\n",
    "import toml\n",
    "from dotenv import load_dotenv\n",
    "import os\n",
    "from datetime import datetime, date, timedelta\n",
    "\n",
    "load_dotenv(override=True)\n",
    "accountname = os.getenv('ACCOUNTNAME')\n",
    "config = toml.load('../config.toml')\n",
    "\n",
    "# Replace with your Alpaca API credentials\n",
    "API_KEY = config[accountname]['key']\n",
    "API_SECRET = config[accountname]['secret']\n"
   ]
  },
  {
   "cell_type": "code",
   "execution_count": 2,
   "metadata": {},
   "outputs": [
    {
     "name": "stdout",
     "output_type": "stream",
     "text": [
      "AAPL 2025-02-10 CorporateActionType.DIVIDEND CorporateActionSubType.CASH 1.0 1.0 0.25\n",
      "GOOGL 2024-12-09 CorporateActionType.DIVIDEND CorporateActionSubType.CASH 1.0 1.0 0.2\n",
      "NVDA 2024-12-05 CorporateActionType.DIVIDEND CorporateActionSubType.CASH 1.0 1.0 0.01\n",
      "MSFT 2024-11-21 CorporateActionType.DIVIDEND CorporateActionSubType.CASH 1.0 1.0 0.83\n",
      "META 2024-12-16 CorporateActionType.DIVIDEND CorporateActionSubType.CASH 1.0 1.0 0.5\n"
     ]
    }
   ],
   "source": [
    "from alpaca.trading.client import TradingClient\n",
    "from alpaca.trading.requests import GetCorporateAnnouncementsRequest\n",
    "from alpaca.trading.enums import CorporateActionType, CorporateActionSubType, CorporateActionDateType\n",
    "\n",
    "trading_client = TradingClient(API_KEY, API_SECRET, paper=True)\n",
    "\n",
    "for i in ['AAPL', 'GOOGL', 'NVDA', 'MSFT', 'AMZN', 'META']:\n",
    "# for i in ['AAPL', 'GOOGL', 'NVDA']:\n",
    "    # print(i)\n",
    "    ca_request = GetCorporateAnnouncementsRequest(\n",
    "        ca_types=[CorporateActionType.SPLIT,CorporateActionType.DIVIDEND, CorporateActionType.MERGER, CorporateActionType.SPINOFF],\n",
    "        since=datetime.now().date() - timedelta(days=90),\n",
    "        until=datetime.now().date(),\n",
    "        symbol=i\n",
    "    )\n",
    "\n",
    "\n",
    "    cas = trading_client.get_corporate_announcements(ca_request)\n",
    "    for ca in cas:\n",
    "        print(i, ca.ex_date, ca.ca_type, ca.ca_sub_type, ca.old_rate, ca.new_rate, ca.cash)"
   ]
  }
 ],
 "metadata": {
  "kernelspec": {
   "display_name": "trading_bot_env",
   "language": "python",
   "name": "python3"
  },
  "language_info": {
   "codemirror_mode": {
    "name": "ipython",
    "version": 3
   },
   "file_extension": ".py",
   "mimetype": "text/x-python",
   "name": "python",
   "nbconvert_exporter": "python",
   "pygments_lexer": "ipython3",
   "version": "3.12.4"
  }
 },
 "nbformat": 4,
 "nbformat_minor": 2
}
