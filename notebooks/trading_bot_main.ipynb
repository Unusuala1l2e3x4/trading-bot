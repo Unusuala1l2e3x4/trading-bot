{
 "cells": [
  {
   "cell_type": "code",
   "execution_count": 1,
   "metadata": {},
   "outputs": [],
   "source": [
    "\n",
    "import sys\n",
    "sys.path.append('../trading_bot')\n",
    "# sys.path.remove('../trading_bot')\n",
    "# sys.path"
   ]
  },
  {
   "cell_type": "code",
   "execution_count": 4,
   "metadata": {},
   "outputs": [
    {
     "data": {
      "text/plain": [
       "'paper'"
      ]
     },
     "execution_count": 4,
     "metadata": {},
     "output_type": "execute_result"
    }
   ],
   "source": [
    "import alpaca_trade_api as tradeapi\n",
    "import pandas as pd\n",
    "import numpy as np\n",
    "from datetime import datetime, timedelta\n",
    "import toml\n",
    "import os\n",
    "from dotenv import load_dotenv\n",
    "\n",
    "load_dotenv(override=True)\n",
    "livepaper = os.getenv('LIVEPAPER')\n",
    "config = toml.load('../config.toml')\n",
    "\n",
    "# Initialize the Alpaca API\n",
    "api = tradeapi.REST(config[livepaper]['key'], config[livepaper]['secret'], config[livepaper]['endpoint'], api_version='v2')\n",
    "\n",
    "livepaper"
   ]
  },
  {
   "cell_type": "code",
   "execution_count": 2,
   "metadata": {},
   "outputs": [],
   "source": [
    "from account import get_account_details, get_current_positions, get_order_history\n",
    "from trading import submit_market_order\n"
   ]
  },
  {
   "cell_type": "code",
   "execution_count": 6,
   "metadata": {},
   "outputs": [
    {
     "name": "stdout",
     "output_type": "stream",
     "text": [
      "Account Details: {'equity': '100000', 'cash': '100000', 'buying_power': '200000', 'portfolio_value': '100000', 'status': 'ACTIVE'}\n",
      "Current Positions: []\n",
      "Order History: []\n"
     ]
    }
   ],
   "source": [
    "\n",
    "\n",
    "# Get account details\n",
    "account_details = get_account_details()\n",
    "print(\"Account Details:\", account_details)\n",
    "\n",
    "# Get current positions\n",
    "positions = get_current_positions()\n",
    "print(\"Current Positions:\", positions)\n",
    "\n",
    "# Get order history\n",
    "order_history = get_order_history()\n",
    "print(\"Order History:\", order_history)\n",
    "\n",
    "# # Submit a market order\n",
    "# order_response = submit_market_order('AAPL', 1, 'buy')\n",
    "# if order_response:\n",
    "#     print(\"Order Response:\", order_response)"
   ]
  },
  {
   "cell_type": "code",
   "execution_count": null,
   "metadata": {},
   "outputs": [],
   "source": []
  }
 ],
 "metadata": {
  "kernelspec": {
   "display_name": "Python 3",
   "language": "python",
   "name": "python3"
  },
  "language_info": {
   "codemirror_mode": {
    "name": "ipython",
    "version": 3
   },
   "file_extension": ".py",
   "mimetype": "text/x-python",
   "name": "python",
   "nbconvert_exporter": "python",
   "pygments_lexer": "ipython3",
   "version": "3.12.4"
  }
 },
 "nbformat": 4,
 "nbformat_minor": 2
}
