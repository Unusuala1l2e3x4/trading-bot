{
 "cells": [
  {
   "cell_type": "code",
   "execution_count": 2,
   "metadata": {},
   "outputs": [],
   "source": [
    "\n",
    "import sys\n",
    "if '../trading_bot' not in sys.path:\n",
    "    sys.path.append('../trading_bot')\n",
    "# sys.path"
   ]
  },
  {
   "cell_type": "code",
   "execution_count": 3,
   "metadata": {},
   "outputs": [
    {
     "data": {
      "text/plain": [
       "'paper'"
      ]
     },
     "execution_count": 3,
     "metadata": {},
     "output_type": "execute_result"
    }
   ],
   "source": [
    "import alpaca_trade_api as tradeapi\n",
    "import pandas as pd\n",
    "import numpy as np\n",
    "from datetime import datetime, timedelta\n",
    "import toml\n",
    "import os\n",
    "from dotenv import load_dotenv\n",
    "\n",
    "load_dotenv(override=True)\n",
    "livepaper = os.getenv('LIVEPAPER')\n",
    "config = toml.load('../config.toml')\n",
    "\n",
    "# Initialize the Alpaca API\n",
    "api = tradeapi.REST(config[livepaper]['key'], config[livepaper]['secret'], config[livepaper]['endpoint'], api_version='v2')\n",
    "\n",
    "livepaper"
   ]
  },
  {
   "cell_type": "markdown",
   "metadata": {},
   "source": [
    "### example get_bars call"
   ]
  },
  {
   "cell_type": "code",
   "execution_count": 7,
   "metadata": {},
   "outputs": [
    {
     "name": "stdout",
     "output_type": "stream",
     "text": [
      "Time: 2024-06-03 00:00:00-04:00, Open: 192.9, High: 194.99, Low: 192.52, Close: 194.03, Volume: 50080539\n",
      "Time: 2024-06-04 00:00:00-04:00, Open: 194.635, High: 195.32, Low: 193.0342, Close: 194.35, Volume: 47471445\n",
      "Time: 2024-06-05 00:00:00-04:00, Open: 195.4, High: 196.9, Low: 194.87, Close: 195.87, Volume: 54156785\n",
      "Time: 2024-06-06 00:00:00-04:00, Open: 195.685, High: 196.5, Low: 194.17, Close: 194.48, Volume: 41181753\n",
      "Time: 2024-06-07 00:00:00-04:00, Open: 194.65, High: 196.94, Low: 194.14, Close: 196.89, Volume: 53103912\n",
      "Time: 2024-06-10 00:00:00-04:00, Open: 196.9, High: 197.3, Low: 192.15, Close: 193.12, Volume: 97262077\n",
      "Time: 2024-06-11 00:00:00-04:00, Open: 193.65, High: 207.16, Low: 193.63, Close: 207.15, Volume: 172460296\n",
      "Time: 2024-06-12 00:00:00-04:00, Open: 207.37, High: 220.2, Low: 206.9, Close: 213.07, Volume: 198134293\n",
      "Time: 2024-06-13 00:00:00-04:00, Open: 214.74, High: 216.75, Low: 211.6, Close: 214.24, Volume: 97862729\n",
      "Time: 2024-06-14 00:00:00-04:00, Open: 213.85, High: 215.17, Low: 211.3, Close: 212.49, Volume: 70122748\n",
      "Time: 2024-06-17 00:00:00-04:00, Open: 213.37, High: 218.95, Low: 212.72, Close: 216.67, Volume: 93728300\n",
      "Time: 2024-06-18 00:00:00-04:00, Open: 217.59, High: 218.63, Low: 213, Close: 214.29, Volume: 79943254\n",
      "Time: 2024-06-20 00:00:00-04:00, Open: 213.93, High: 214.24, Low: 208.85, Close: 209.68, Volume: 86172451\n",
      "Time: 2024-06-21 00:00:00-04:00, Open: 210.39, High: 211.89, Low: 207.11, Close: 207.49, Volume: 246421353\n",
      "Time: 2024-06-24 00:00:00-04:00, Open: 207.72, High: 212.7, Low: 206.59, Close: 208.14, Volume: 80727006\n",
      "Time: 2024-06-25 00:00:00-04:00, Open: 209.15, High: 211.38, Low: 208.61, Close: 209.07, Volume: 56713868\n",
      "Time: 2024-06-26 00:00:00-04:00, Open: 211.5, High: 214.86, Low: 210.64, Close: 213.25, Volume: 66213186\n",
      "Time: 2024-06-27 00:00:00-04:00, Open: 214.69, High: 215.7395, Low: 212.35, Close: 214.1, Volume: 49772707\n",
      "Time: 2024-06-28 00:00:00-04:00, Open: 215.77, High: 216.07, Low: 210.3, Close: 210.62, Volume: 82403710\n"
     ]
    }
   ],
   "source": [
    "# Define the parameters for the get_bars call\n",
    "symbol = 'AAPL'\n",
    "timeframe = '1D'  # '1Min', '5Min', '15Min', '1D', '1W', '1M'\n",
    "start_date = (datetime.now() - timedelta(days=30)).strftime('%Y-%m-%dT%H:%M:%SZ')  # 30 days ago\n",
    "end_date = datetime.now().strftime('%Y-%m-%dT%H:%M:%SZ')  # Current date\n",
    "\n",
    "# Make the get_bars API call\n",
    "bars = api.get_bars(symbol, timeframe, start=start_date, end=end_date)\n",
    "\n",
    "# Process the retrieved data\n",
    "for bar in bars:\n",
    "    print(f\"Time: {bar.t}, Open: {bar.o}, High: {bar.h}, Low: {bar.l}, Close: {bar.c}, Volume: {bar.v}\")\n"
   ]
  },
  {
   "cell_type": "code",
   "execution_count": 9,
   "metadata": {},
   "outputs": [],
   "source": [
    "from account import get_account_details, get_current_positions, get_order_history\n",
    "from trading import submit_market_order, is_market_open, get_historical_data\n"
   ]
  },
  {
   "cell_type": "code",
   "execution_count": 10,
   "metadata": {},
   "outputs": [
    {
     "name": "stdout",
     "output_type": "stream",
     "text": [
      "Account Details: {'equity': '100000', 'cash': '100000', 'buying_power': '200000', 'portfolio_value': '100000', 'status': 'ACTIVE'}\n",
      "Current Positions: []\n",
      "Order History: []\n"
     ]
    }
   ],
   "source": [
    "\n",
    "\n",
    "# Get account details\n",
    "account_details = get_account_details()\n",
    "print(\"Account Details:\", account_details)\n",
    "\n",
    "# Get current positions\n",
    "positions = get_current_positions()\n",
    "print(\"Current Positions:\", positions)\n",
    "\n",
    "# Get order history\n",
    "order_history = get_order_history()\n",
    "print(\"Order History:\", order_history)\n",
    "\n",
    "# # Submit a market order\n",
    "# order_response = submit_market_order('AAPL', 1, 'buy')\n",
    "# if order_response:\n",
    "#     print(\"Order Response:\", order_response)"
   ]
  },
  {
   "cell_type": "code",
   "execution_count": 11,
   "metadata": {},
   "outputs": [
    {
     "data": {
      "text/plain": [
       "False"
      ]
     },
     "execution_count": 11,
     "metadata": {},
     "output_type": "execute_result"
    }
   ],
   "source": [
    "is_market_open()"
   ]
  },
  {
   "cell_type": "code",
   "execution_count": 12,
   "metadata": {},
   "outputs": [
    {
     "ename": "AttributeError",
     "evalue": "'REST' object has no attribute 'get_barset'",
     "output_type": "error",
     "traceback": [
      "\u001b[1;31m---------------------------------------------------------------------------\u001b[0m",
      "\u001b[1;31mAttributeError\u001b[0m                            Traceback (most recent call last)",
      "Cell \u001b[1;32mIn[12], line 4\u001b[0m\n\u001b[0;32m      1\u001b[0m \u001b[38;5;28;01mfrom\u001b[39;00m \u001b[38;5;21;01mpaul_lenosky\u001b[39;00m \u001b[38;5;28;01mimport\u001b[39;00m run_trading_bot\n\u001b[1;32m----> 4\u001b[0m \u001b[43mrun_trading_bot\u001b[49m\u001b[43m(\u001b[49m\u001b[38;5;124;43m'\u001b[39;49m\u001b[38;5;124;43mAAPL\u001b[39;49m\u001b[38;5;124;43m'\u001b[39;49m\u001b[43m)\u001b[49m\n",
      "File \u001b[1;32mc:\\Users\\alexw\\OneDrive\\trading brainstorming\\trading-bot\\notebooks\\../trading_bot\\paul_lenosky.py:103\u001b[0m, in \u001b[0;36mrun_trading_bot\u001b[1;34m(symbol, min_touches, tolerance)\u001b[0m\n\u001b[0;32m    100\u001b[0m end_date \u001b[38;5;241m=\u001b[39m datetime\u001b[38;5;241m.\u001b[39mnow()\u001b[38;5;241m.\u001b[39mstrftime(\u001b[38;5;124m'\u001b[39m\u001b[38;5;124m%\u001b[39m\u001b[38;5;124mY-\u001b[39m\u001b[38;5;124m%\u001b[39m\u001b[38;5;124mm-\u001b[39m\u001b[38;5;132;01m%d\u001b[39;00m\u001b[38;5;124m'\u001b[39m)\n\u001b[0;32m    101\u001b[0m start_date \u001b[38;5;241m=\u001b[39m (datetime\u001b[38;5;241m.\u001b[39mnow() \u001b[38;5;241m-\u001b[39m timedelta(days\u001b[38;5;241m=\u001b[39m\u001b[38;5;241m365\u001b[39m))\u001b[38;5;241m.\u001b[39mstrftime(\u001b[38;5;124m'\u001b[39m\u001b[38;5;124m%\u001b[39m\u001b[38;5;124mY-\u001b[39m\u001b[38;5;124m%\u001b[39m\u001b[38;5;124mm-\u001b[39m\u001b[38;5;132;01m%d\u001b[39;00m\u001b[38;5;124m'\u001b[39m)\n\u001b[1;32m--> 103\u001b[0m df \u001b[38;5;241m=\u001b[39m \u001b[43mget_historical_data\u001b[49m\u001b[43m(\u001b[49m\u001b[43msymbol\u001b[49m\u001b[43m,\u001b[49m\u001b[43m \u001b[49m\u001b[43mstart_date\u001b[49m\u001b[43m,\u001b[49m\u001b[43m \u001b[49m\u001b[43mend_date\u001b[49m\u001b[43m)\u001b[49m\n\u001b[0;32m    105\u001b[0m levels \u001b[38;5;241m=\u001b[39m detect_support_resistance(df, min_touches, tolerance)\n\u001b[0;32m    106\u001b[0m log_alert(\u001b[38;5;124mf\u001b[39m\u001b[38;5;124m\"\u001b[39m\u001b[38;5;124mDetected levels: \u001b[39m\u001b[38;5;132;01m{\u001b[39;00mlevels\u001b[38;5;132;01m}\u001b[39;00m\u001b[38;5;124m\"\u001b[39m)\n",
      "File \u001b[1;32mc:\\Users\\alexw\\OneDrive\\trading brainstorming\\trading-bot\\notebooks\\../trading_bot\\paul_lenosky.py:25\u001b[0m, in \u001b[0;36mget_historical_data\u001b[1;34m(symbol, start_date, end_date, timeframe)\u001b[0m\n\u001b[0;32m     24\u001b[0m \u001b[38;5;28;01mdef\u001b[39;00m \u001b[38;5;21mget_historical_data\u001b[39m(symbol, start_date, end_date, timeframe\u001b[38;5;241m=\u001b[39m\u001b[38;5;124m'\u001b[39m\u001b[38;5;124mday\u001b[39m\u001b[38;5;124m'\u001b[39m):\n\u001b[1;32m---> 25\u001b[0m     barset \u001b[38;5;241m=\u001b[39m \u001b[43mapi\u001b[49m\u001b[38;5;241;43m.\u001b[39;49m\u001b[43mget_barset\u001b[49m(symbol, timeframe, start\u001b[38;5;241m=\u001b[39mstart_date, end\u001b[38;5;241m=\u001b[39mend_date)\n\u001b[0;32m     26\u001b[0m     \u001b[38;5;28;01mreturn\u001b[39;00m barset[symbol]\u001b[38;5;241m.\u001b[39mdf\n",
      "\u001b[1;31mAttributeError\u001b[0m: 'REST' object has no attribute 'get_barset'"
     ]
    }
   ],
   "source": [
    "from paul_lenosky import run_trading_bot\n",
    "\n",
    "\n",
    "# run_trading_bot('AAPL')"
   ]
  }
 ],
 "metadata": {
  "kernelspec": {
   "display_name": "Python 3",
   "language": "python",
   "name": "python3"
  },
  "language_info": {
   "codemirror_mode": {
    "name": "ipython",
    "version": 3
   },
   "file_extension": ".py",
   "mimetype": "text/x-python",
   "name": "python",
   "nbconvert_exporter": "python",
   "pygments_lexer": "ipython3",
   "version": "3.12.4"
  }
 },
 "nbformat": 4,
 "nbformat_minor": 2
}
